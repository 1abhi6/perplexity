{
 "cells": [
  {
   "cell_type": "code",
   "execution_count": 2,
   "id": "c5dfbf50",
   "metadata": {},
   "outputs": [],
   "source": [
    "from typing import Annotated, Optional, TypedDict\n",
    "from langgraph.graph import add_messages, StateGraph, END\n",
    "from langchain_openai import ChatOpenAI\n",
    "from dotenv import load_dotenv\n",
    "from langchain_tavily import TavilySearch\n",
    "from langchain_core.messages import HumanMessage\n",
    "from langgraph.checkpoint.memory import MemorySaver\n",
    "from langgraph.prebuilt import ToolNode, tools_condition\n",
    "from uuid import uuid4\n",
    "import json"
   ]
  },
  {
   "cell_type": "code",
   "execution_count": 3,
   "id": "5067e6b2",
   "metadata": {},
   "outputs": [
    {
     "data": {
      "text/plain": [
       "True"
      ]
     },
     "execution_count": 3,
     "metadata": {},
     "output_type": "execute_result"
    }
   ],
   "source": [
    "load_dotenv()"
   ]
  },
  {
   "cell_type": "code",
   "execution_count": 4,
   "id": "bf97f3cf",
   "metadata": {},
   "outputs": [],
   "source": [
    "llm = ChatOpenAI(model=\"gpt-4o\")"
   ]
  },
  {
   "cell_type": "code",
   "execution_count": 5,
   "id": "5d533235",
   "metadata": {},
   "outputs": [],
   "source": [
    "search_tool = TavilySearch(max_results=4)"
   ]
  },
  {
   "cell_type": "code",
   "execution_count": 6,
   "id": "651a5115",
   "metadata": {},
   "outputs": [],
   "source": [
    "tools = [search_tool]"
   ]
  },
  {
   "cell_type": "code",
   "execution_count": 7,
   "id": "462ba745",
   "metadata": {},
   "outputs": [],
   "source": [
    "model_with_tools = llm.bind_tools(tools=tools)"
   ]
  },
  {
   "cell_type": "code",
   "execution_count": 8,
   "id": "0bf6f3ec",
   "metadata": {},
   "outputs": [],
   "source": [
    "checkpointer = MemorySaver()"
   ]
  },
  {
   "cell_type": "code",
   "execution_count": 9,
   "id": "59f2c41e",
   "metadata": {},
   "outputs": [],
   "source": [
    "class State(TypedDict):\n",
    "    messages: Annotated[list, add_messages]"
   ]
  },
  {
   "cell_type": "code",
   "execution_count": 10,
   "id": "1759c64b",
   "metadata": {},
   "outputs": [],
   "source": [
    "async def model(state: State):\n",
    "    response = await model_with_tools.ainvoke(state[\"messages\"])\n",
    "    return {\"messages\": [response]}"
   ]
  },
  {
   "cell_type": "code",
   "execution_count": 11,
   "id": "80276163",
   "metadata": {},
   "outputs": [],
   "source": [
    "graph = StateGraph(State)\n",
    "\n",
    "# Add nodes\n",
    "graph.add_node(\"model\", model)\n",
    "graph.add_node(\"tool_node\", ToolNode(tools=tools))\n",
    "\n",
    "\n",
    "# Add Edges\n",
    "graph.set_entry_point(\"model\")\n",
    "graph.add_conditional_edges(\n",
    "    \"model\", tools_condition, {\"tools\": \"tool_node\", \"__end__\": END}\n",
    ")\n",
    "graph.add_edge(\"tool_node\", \"model\")\n",
    "\n",
    "workflow = graph.compile(checkpointer=checkpointer)"
   ]
  },
  {
   "cell_type": "code",
   "execution_count": 12,
   "id": "1dc3386e",
   "metadata": {},
   "outputs": [],
   "source": [
    "CONFIG = {\"configurable\": {\"thread_id\": 2}, \"project_name\": \"my-graph-demo\"}\n",
    "\n",
    "response = await workflow.ainvoke(\n",
    "    {\"messages\": [HumanMessage(\"When is the next ISRO lauch?\")]}, config=CONFIG\n",
    ")"
   ]
  },
  {
   "cell_type": "code",
   "execution_count": 13,
   "id": "279ace4d",
   "metadata": {},
   "outputs": [
    {
     "data": {
      "text/plain": [
       "{'messages': [HumanMessage(content='When is the next ISRO lauch?', additional_kwargs={}, response_metadata={}, id='07963f87-dfbc-4a55-a07d-42be234d6fe3'),\n",
       "  AIMessage(content='', additional_kwargs={'tool_calls': [{'id': 'call_Gh2dNuVC5Sm3aKpbmKk1rjVS', 'function': {'arguments': '{\"query\":\"next ISRO launch date 2023\"}', 'name': 'tavily_search'}, 'type': 'function'}], 'refusal': None}, response_metadata={'token_usage': {'completion_tokens': 23, 'prompt_tokens': 1277, 'total_tokens': 1300, 'completion_tokens_details': {'accepted_prediction_tokens': 0, 'audio_tokens': 0, 'reasoning_tokens': 0, 'rejected_prediction_tokens': 0}, 'prompt_tokens_details': {'audio_tokens': 0, 'cached_tokens': 1152}}, 'model_name': 'gpt-4o-2024-08-06', 'system_fingerprint': 'fp_46bff0e0c8', 'id': 'chatcmpl-C95KGPDz6GBeoXH8dyGai4yndAO8Q', 'service_tier': 'default', 'finish_reason': 'tool_calls', 'logprobs': None}, id='run--0e3b31b4-d49a-4a87-bf4c-838ea613d528-0', tool_calls=[{'name': 'tavily_search', 'args': {'query': 'next ISRO launch date 2023'}, 'id': 'call_Gh2dNuVC5Sm3aKpbmKk1rjVS', 'type': 'tool_call'}], usage_metadata={'input_tokens': 1277, 'output_tokens': 23, 'total_tokens': 1300, 'input_token_details': {'audio': 0, 'cache_read': 1152}, 'output_token_details': {'audio': 0, 'reasoning': 0}}),\n",
       "  ToolMessage(content='{\"query\": \"next ISRO launch date 2023\", \"follow_up_questions\": null, \"answer\": null, \"images\": [], \"results\": [{\"url\": \"https://www.isro.gov.in/LaunchMissions.html\", \"title\": \"Launch Missions\", \"content\": \"| 87 | PSLV-C54/EOS-06 Mission | Nov 26, 2022 | PSLV-XL | EOS_06 |  | | 83 | PSLV-C52/EOS-04 Mission | Feb 14, 2022 | PSLV-XL | EOS-04 |  | | 77 | PSLV-C47 / Cartosat-3 Mission | Nov 27, 2019 | PSLV-XL | Cartosat-3 |  | | 65 | PSLV-C40/Cartosat-2 Series Satellite Mission | Jan 12, 2018 | PSLV-XL | Cartosat-2 Series Satellite |  | | 64 | PSLV-C39/IRNSS-1H Mission | Aug 31, 2017 | PSLV-XL | IRNSS-1H | Mission Unsuccessful | | 49 | PSLV-C30/AstroSat MISSION | Sep 28, 2015 | PSLV-XL | Astrosat |  | | 47 | PSLV-C28 / DMC3 Mission | Jul 10, 2015 | PSLV-XL | DMC3 |  |\", \"score\": 0.9852, \"raw_content\": null}, {\"url\": \"https://en.wikipedia.org/wiki/List_of_ISRO_missions\", \"title\": \"List of ISRO missions\", \"content\": \"| **ASTROSAT** | 28 September 2015 | Ongoing | **ASTROSAT** is an Indian Astronomy satellite mission launched by ISRO on 28 September 2015, which enabled multi-wavelength observations of the celestial bodies and cosmic sources in X-ray and UV spectral bands simultaneously. | _**Chandrayaan-4**_ | 2027 | Lunar lander, sample return | **Chandrayaan-4** is a planned lunarsample-return mission of the Indian Space Research Organisation (ISRO) and will be the fourth iteration in its Chandrayaan programme. | * List of Indian satellites * List of Satish Dhawan Space Centre launches * List of ISRO missions * List of ISRO chairpersons | | * List of Indian satellites * List of Satish Dhawan Space Centre launches * List of ISRO missions |\", \"score\": 0.98163, \"raw_content\": null}, {\"url\": \"https://www.rocketlaunch.live/?filter=isro\", \"title\": \"ISRO Launch Schedule\", \"content\": \"*   - [x] CAS Space   *   - [x] i-Space   *   - [x] Xichang Satellite Launch Center   *   - [x] Taiyuan Satellite Launch Center   *   - [x] Jiuquan Satellite Launch Center   *   - [x] Wenchang Satellite Launch Center   *   - [x] Space One   *   - [x] Astra Space   *   - [x] TBD   *    North Korea - [x] Sohae Satellite Launching Station   *    MAR 31  Starlink-243 (6-80) Mission (Falcon 9)\\\\\")   *    MAR 30  \\\\\"Going Full Spectrum\\\\\" (Demo Flight) Mission (Spectrum)\\\\\")   *    MAR 26  Starlink-242 (11-7) Mission (Falcon 9)\\\\\")   *    MAR 18  Starlink-241 (12-25) Mission (Falcon 9)\\\\\")   *    MAR 15  Starlink-240 (12-16) Mission (Falcon 9)\\\\\")   *    MAR 13  Starlink-239 (12-21) Mission (Falcon 9)\\\\\")   *    MAR 03  Starlink-238 (12-20) Mission (Falcon 9)\\\\\")   Mission #### GO-1 Mission\\\\\")\", \"score\": 0.98089, \"raw_content\": null}, {\"url\": \"https://en.wikipedia.org/wiki/Chandrayaan-3\", \"title\": \"Chandrayaan-3\", \"content\": \"The mission consists of a _Vikram_lunar lander and a _Pragyan_ \\\\\"Pragyan (Chandrayaan-3)\\\\\")lunar rover, as replacements for the equivalents on Chandrayaan-2, which had crashed on landing in 2019. On 22 July 2019, ISRO launched Chandrayaan-2 on board a Launch Vehicle Mark-3 (LVM3)launch vehicle consisting of an orbiter, a lander \\\\\"Lander (spacecraft)\\\\\") and a rover \\\\\"Rover (space exploration)\\\\\"). | Space probes | | Scientific | * SROSS * A * B * C * C2 | | --- | | Astronomical | * Astrosat * Aditya-L1 * XPoSat * _AstroSat-2_ (_planned_) | | Lunar programme | * Chandrayaan-1 * Moon Impact Probe * Chandrayaan-2 * Vikram * Pragyan \\\\\"Pragyan (Chandrayaan-2)\\\\\") * Chandrayaan-3 * Vikram * Pragyan \\\\\"Pragyan (Chandrayaan-3)\\\\\") * Lunar Polar Exploration Mission * Chandrayaan-4 * Chandrayaan-5 * Chandrayaan-6\\\\\") | | Interplanetary | * Mars Orbiter Mission * _Mars Orbiter Mission 2_ (_planned_) * _Venus Orbiter Mission_ (_planned_) | |\", \"score\": 0.9751, \"raw_content\": null}], \"response_time\": 1.46, \"request_id\": \"139e1b94-db15-4a89-b104-cb8851bbe75d\"}', name='tavily_search', id='28f420b3-5330-48ec-b9e4-85bc700688eb', tool_call_id='call_Gh2dNuVC5Sm3aKpbmKk1rjVS'),\n",
       "  AIMessage(content=\"Currently, there does not appear to be a confirmed date for ISRO's next launch listed clearly in the available resources. For the most up-to-date and reliable information on ISRO's launch schedule, you can visit [ISRO's official website](https://www.isro.gov.in/LaunchMissions.html) or check resources like [RocketLaunch.Live](https://www.rocketlaunch.live/?filter=isro) for potential updates.\", additional_kwargs={'refusal': None}, response_metadata={'token_usage': {'completion_tokens': 89, 'prompt_tokens': 2564, 'total_tokens': 2653, 'completion_tokens_details': {'accepted_prediction_tokens': 0, 'audio_tokens': 0, 'reasoning_tokens': 0, 'rejected_prediction_tokens': 0}, 'prompt_tokens_details': {'audio_tokens': 0, 'cached_tokens': 1280}}, 'model_name': 'gpt-4o-2024-08-06', 'system_fingerprint': 'fp_46bff0e0c8', 'id': 'chatcmpl-C95KK02ttFX7OxTwvmEd5BqGTs3Qp', 'service_tier': 'default', 'finish_reason': 'stop', 'logprobs': None}, id='run--d528da72-3f5f-4acf-8962-ae75eb26d77d-0', usage_metadata={'input_tokens': 2564, 'output_tokens': 89, 'total_tokens': 2653, 'input_token_details': {'audio': 0, 'cache_read': 1280}, 'output_token_details': {'audio': 0, 'reasoning': 0}})]}"
      ]
     },
     "execution_count": 13,
     "metadata": {},
     "output_type": "execute_result"
    }
   ],
   "source": [
    "response"
   ]
  },
  {
   "cell_type": "code",
   "execution_count": 14,
   "id": "c96db599",
   "metadata": {},
   "outputs": [
    {
     "name": "stdout",
     "output_type": "stream",
     "text": [
      "The next ISRO launch is the \"Space MAITRI (Mission for Australia-India’s Technology, Research and Innovation)\" utilizing the Launch Vehicle Mark-3 (GSLV Mk III). The mission will be launched from the second launch pad at Satish Dhawan Space Centre. For more details, you can check the [ISRO Launch Schedule on RocketLaunch.org](https://rocketlaunch.org/launch-schedule/indian-space-research-organization)."
     ]
    }
   ],
   "source": [
    "CONFIG = {\"configurable\": {\"thread_id\": 8}, \"project_name\": \"my-graph-demo\"}\n",
    "\n",
    "async for event in workflow.astream_events(\n",
    "    {\"messages\": [HumanMessage(\"When is the next ISRO lauch?\")]}, config=CONFIG\n",
    "):\n",
    "    if event.get(\"event\") == \"on_chat_model_stream\":\n",
    "        print(event[\"data\"][\"chunk\"].content, end=\"\", flush=True)\n",
    "        "
   ]
  },
  {
   "cell_type": "code",
   "execution_count": null,
   "id": "72c76814",
   "metadata": {},
   "outputs": [],
   "source": []
  },
  {
   "cell_type": "code",
   "execution_count": null,
   "id": "1c0824d8",
   "metadata": {},
   "outputs": [],
   "source": []
  }
 ],
 "metadata": {
  "kernelspec": {
   "display_name": ".venv",
   "language": "python",
   "name": "python3"
  },
  "language_info": {
   "codemirror_mode": {
    "name": "ipython",
    "version": 3
   },
   "file_extension": ".py",
   "mimetype": "text/x-python",
   "name": "python",
   "nbconvert_exporter": "python",
   "pygments_lexer": "ipython3",
   "version": "3.13.3"
  }
 },
 "nbformat": 4,
 "nbformat_minor": 5
}
